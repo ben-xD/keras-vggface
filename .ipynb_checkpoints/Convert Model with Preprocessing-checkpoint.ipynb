{
 "cells": [
  {
   "cell_type": "markdown",
   "metadata": {},
   "source": [
    "# Convert model including preprocessing steps"
   ]
  },
  {
   "cell_type": "code",
   "execution_count": 2,
   "metadata": {},
   "outputs": [],
   "source": [
    "from keras_vggface import VGGFace\n",
    "import tensorflow as tf\n",
    "from keras_vggface.models import preprocessing"
   ]
  },
  {
   "cell_type": "markdown",
   "metadata": {},
   "source": [
    "## Using old model"
   ]
  },
  {
   "cell_type": "code",
   "execution_count": 3,
   "metadata": {},
   "outputs": [],
   "source": [
    "# model = VGGFace(model='senet50')\n",
    "# img = image.load_img('image/ajb-resized.jpg', target_size=(224,224), interpolation=\"bilinear\")\n",
    "# x = image.img_to_array(img)\n",
    "# x = np.expand_dims(x, axis=0)\n",
    "# x = utils.preprocess_input(x, version=2)\n",
    "# preds = model.predict(x)\n",
    "# print('Predicted:', utils.decode_predictions(preds))\n",
    "# # Output of normal:               [[[\"b' A._J._Buckley'\", 0.91385096], [\"b' Guy_Garvey'\", 0.009176245], [\"b' Jeff_Corwin'\", 0.008781389], [\"b' Michael_Voltaggio'\", 0.0073467665], [\"b' Nick_Frost'\", 0.0065856054]]]\n",
    "# # Output of custom preprocessing: [[[\"b' A._J._Buckley'\", 0.91558367], [\"b' Guy_Garvey'\", 0.009039231], [\"b' Jeff_Corwin'\", 0.008346532], [\"b' Michael_Voltaggio'\", 0.0071733994], [\"b' Nick_Frost'\", 0.006603726]]]"
   ]
  },
  {
   "cell_type": "markdown",
   "metadata": {},
   "source": [
    "## Helper function"
   ]
  },
  {
   "cell_type": "code",
   "execution_count": 4,
   "metadata": {},
   "outputs": [],
   "source": [
    "def create_tflite_model_file(model, filename):\n",
    "    converter = tf.lite.TFLiteConverter.from_keras_model(model)\n",
    "    tflite_model = converter.convert()\n",
    "    with open(filename, 'wb') as f:\n",
    "      f.write(tflite_model)"
   ]
  },
  {
   "cell_type": "markdown",
   "metadata": {},
   "source": [
    "## First Model"
   ]
  },
  {
   "cell_type": "code",
   "execution_count": 4,
   "metadata": {},
   "outputs": [
    {
     "name": "stdout",
     "output_type": "stream",
     "text": [
      "WARNING:tensorflow:From /Users/ben/butter/repos/popsa/ds-face/venv/lib/python3.8/site-packages/tensorflow/python/training/tracking/tracking.py:111: Model.state_updates (from tensorflow.python.keras.engine.training) is deprecated and will be removed in a future version.\n",
      "Instructions for updating:\n",
      "This property should not be used in TensorFlow 2.0, as updates are applied automatically.\n",
      "WARNING:tensorflow:From /Users/ben/butter/repos/popsa/ds-face/venv/lib/python3.8/site-packages/tensorflow/python/training/tracking/tracking.py:111: Layer.updates (from tensorflow.python.keras.engine.base_layer) is deprecated and will be removed in a future version.\n",
      "Instructions for updating:\n",
      "This property should not be used in TensorFlow 2.0, as updates are applied automatically.\n",
      "INFO:tensorflow:Assets written to: /var/folders/rq/tslhk4cj60g2tlr0r5twqhf40000gq/T/tmpyv903xup/assets\n"
     ]
    }
   ],
   "source": [
    "model = preprocessing()\n",
    "create_tflite_model_file(model, 'preprocessing.tflite')"
   ]
  },
  {
   "cell_type": "markdown",
   "metadata": {},
   "source": [
    "## Second Model"
   ]
  },
  {
   "cell_type": "code",
   "execution_count": 3,
   "metadata": {},
   "outputs": [
    {
     "name": "stdout",
     "output_type": "stream",
     "text": [
      "Using modified model\n",
      "WARNING:tensorflow:From /Users/ben/butter/repos/popsa/ds-face/venv/lib/python3.8/site-packages/tensorflow/python/training/tracking/tracking.py:111: Model.state_updates (from tensorflow.python.keras.engine.training) is deprecated and will be removed in a future version.\n",
      "Instructions for updating:\n",
      "This property should not be used in TensorFlow 2.0, as updates are applied automatically.\n",
      "WARNING:tensorflow:From /Users/ben/butter/repos/popsa/ds-face/venv/lib/python3.8/site-packages/tensorflow/python/training/tracking/tracking.py:111: Layer.updates (from tensorflow.python.keras.engine.base_layer) is deprecated and will be removed in a future version.\n",
      "Instructions for updating:\n",
      "This property should not be used in TensorFlow 2.0, as updates are applied automatically.\n",
      "INFO:tensorflow:Assets written to: /var/folders/rq/tslhk4cj60g2tlr0r5twqhf40000gq/T/tmpljxeeit6/assets\n"
     ]
    }
   ],
   "source": [
    "model = VGGFace(model=\"senet50\", pooling=\"avg\", include_top=False)\n",
    "create_tflite_model_file(model, 'VggFace2SeNet.tflite')"
   ]
  }
 ],
 "metadata": {
  "kernelspec": {
   "display_name": "Python 3",
   "language": "python",
   "name": "python3"
  },
  "language_info": {
   "codemirror_mode": {
    "name": "ipython",
    "version": 3
   },
   "file_extension": ".py",
   "mimetype": "text/x-python",
   "name": "python",
   "nbconvert_exporter": "python",
   "pygments_lexer": "ipython3",
   "version": "3.8.6"
  }
 },
 "nbformat": 4,
 "nbformat_minor": 4
}
